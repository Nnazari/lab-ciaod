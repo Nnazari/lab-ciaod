{
 "cells": [
  {
   "cell_type": "markdown",
   "id": "fifteen-sailing",
   "metadata": {
    "id": "fifteen-sailing"
   },
   "source": [
    "# Лабораторная работа №1\n",
    "## Выполнил студент группы БСТ2105 Мжавия Назарий Рамазович"
   ]
  },
  {
   "cell_type": "markdown",
   "id": "particular-syndicate",
   "metadata": {
    "id": "particular-syndicate"
   },
   "source": [
    "### Оглавление\n",
    "1. [Задание 1](#Задание-№1)\n",
    "2. [Задание 2](#Задание-№2)\n",
    "3. [Задание 3](#Задание-№3)\n",
    "4. [Вывод](#Вывод)"
   ]
  },
  {
   "cell_type": "markdown",
   "id": "arctic-stocks",
   "metadata": {
    "id": "arctic-stocks"
   },
   "source": [
    "### Задание №1\n",
    "<i> Вызвать функцию print() и передать туда строку Hello, World! </i>"
   ]
  },
  {
   "cell_type": "code",
   "execution_count": null,
   "id": "caring-truck",
   "metadata": {
    "colab": {
     "base_uri": "https://localhost:8080/"
    },
    "id": "caring-truck",
    "outputId": "119e54d8-c3f3-4f46-88b3-4a66efef65fd",
    "scrolled": true
   },
   "outputs": [
    {
     "name": "stdout",
     "output_type": "stream",
     "text": [
      "Hello,World!\n"
     ]
    }
   ],
   "source": [
    "print(\"Hello,World!\")"
   ]
  },
  {
   "cell_type": "markdown",
   "id": "maritime-conversation",
   "metadata": {
    "id": "maritime-conversation"
   },
   "source": [
    "### Задание №2\n",
    "Написать генератор случайных матриц(многомерных), который принимает\n",
    "опциональные параметры <b>m</b>, <b>n</b>, <b>min_limit</b>, <b>max_limit</b>, где <b>m</b> и <b>n</b> указывают размер\n",
    "матрицы, а <b>min_lim</b> и <b>max_lim</b> - минимальное и максимальное значение для\n",
    "генерируемого числа."
   ]
  },
  {
   "cell_type": "code",
   "execution_count": null,
   "id": "built-contact",
   "metadata": {
    "id": "built-contact"
   },
   "outputs": [],
   "source": [
    "import random\n",
    "import time"
   ]
  },
  {
   "cell_type": "code",
   "execution_count": null,
   "id": "alert-charm",
   "metadata": {
    "colab": {
     "base_uri": "https://localhost:8080/"
    },
    "id": "alert-charm",
    "outputId": "531df2fe-31ce-42d7-cb2e-8ecf8d98fb55"
   },
   "outputs": [
    {
     "name": "stdout",
     "output_type": "stream",
     "text": [
      "10\n",
      "10\n",
      "-10\n",
      "26\n"
     ]
    }
   ],
   "source": [
    "user_m = int(input())\n",
    "user_n = int(input())\n",
    "user_min_limit = int(input())\n",
    "user_max_limit = int(input())\n",
    "Matrix = [ [random.randint(user_min_limit, user_max_limit) for j in range(user_n)] for i in range(user_m)]\n",
    "# for i in range(user_m):\n",
    "#     print(Matrix[i])"
   ]
  },
  {
   "cell_type": "markdown",
   "id": "catholic-roots",
   "metadata": {
    "id": "catholic-roots"
   },
   "source": [
    "### Задание №3\n",
    "Реализовать методы сортировки строк числовой матрицы в соответствии с\n",
    "заданием. Оценить время работы каждого алгоритма сортировки и сравнить его со\n",
    "временем стандартной функции сортировки. Испытания проводить на сгенерированных\n",
    "матрицах."
   ]
  },
  {
   "cell_type": "code",
   "execution_count": null,
   "id": "opposed-creature",
   "metadata": {
    "id": "opposed-creature"
   },
   "outputs": [],
   "source": [
    "import copy\n",
    "import random"
   ]
  },
  {
   "cell_type": "code",
   "execution_count": null,
   "id": "cleared-anniversary",
   "metadata": {
    "colab": {
     "base_uri": "https://localhost:8080/"
    },
    "id": "cleared-anniversary",
    "outputId": "e35b138f-8fd6-4b02-9ed2-5f270b85ecc0"
   },
   "outputs": [
    {
     "name": "stdout",
     "output_type": "stream",
     "text": [
      "[-8, -2, 0, 14, 17, 17, 17, 18, 22, 24]\n",
      "[0, 4, 7, 10, 11, 16, 19, 21, 21, 23]\n",
      "[-9, -6, -2, 1, 8, 12, 14, 16, 16, 20]\n",
      "[-10, -10, -6, -3, -2, -1, 0, 7, 18, 21]\n",
      "[-4, -1, 7, 18, 21, 22, 22, 23, 25, 25]\n",
      "[-5, 0, 0, 1, 2, 3, 4, 5, 6, 12]\n",
      "[-7, -6, -3, 0, 1, 9, 9, 10, 15, 24]\n",
      "[-9, 0, 1, 2, 3, 4, 12, 13, 17, 23]\n",
      "[-9, -2, 11, 17, 17, 18, 20, 23, 23, 26]\n",
      "[0, 2, 5, 12, 19, 20, 23, 24, 24, 24]\n",
      "--- 4 ms ---\n"
     ]
    }
   ],
   "source": [
    "# Сортировка выбором.\n",
    "# Берётся срез массива, в котором минимальный элемент переносят в самый левый угол,\n",
    "# после чего срез уменьшается и цикл повторяется.\n",
    "\n",
    "start_time = time.time()\n",
    "def sortChoos (copyMatr):\n",
    "    for i in range(len(copyMatr) - 1):\n",
    "          min_index = i\n",
    "          for k in range(i + 1, len(copyMatr)):\n",
    "              if copyMatr[k] < copyMatr[min_index]:\n",
    "                  min_index = k\n",
    "          copyMatr[i], copyMatr[min_index] = copyMatr[min_index], copyMatr[i]\n",
    "    print (copyMatr)\n",
    "for k in range(user_m):\n",
    "  copyMatr = copy.copy(Matrix[k])\n",
    "  sortChoos(copyMatr)\n",
    "\n",
    "print(\"--- {0} ms ---\".format(round((time.time() - start_time)*1000)))"
   ]
  },
  {
   "cell_type": "code",
   "execution_count": null,
   "id": "roman-silly",
   "metadata": {
    "colab": {
     "base_uri": "https://localhost:8080/"
    },
    "id": "roman-silly",
    "outputId": "a8dfabb9-e786-43c5-e341-d112b177ea60",
    "scrolled": true
   },
   "outputs": [
    {
     "name": "stdout",
     "output_type": "stream",
     "text": [
      "[-8, -2, 0, 14, 17, 17, 17, 18, 22, 24]\n",
      "[0, 4, 7, 10, 11, 16, 19, 21, 21, 23]\n",
      "[-9, -6, -2, 1, 8, 12, 14, 16, 16, 20]\n",
      "[-10, -10, -6, -3, -2, -1, 0, 7, 18, 21]\n",
      "[-4, -1, 7, 18, 21, 22, 22, 23, 25, 25]\n",
      "[-5, 0, 0, 1, 2, 3, 4, 5, 6, 12]\n",
      "[-7, -6, -3, 0, 1, 9, 9, 10, 15, 24]\n",
      "[-9, 0, 1, 2, 3, 4, 12, 13, 17, 23]\n",
      "[-9, -2, 11, 17, 17, 18, 20, 23, 23, 26]\n",
      "[0, 2, 5, 12, 19, 20, 23, 24, 24, 24]\n",
      "--- 8 ms ---\n"
     ]
    }
   ],
   "source": [
    "# Сортировка вставкой.\n",
    "def sortIn(b):\n",
    "    for i in range(1, len(b)):\n",
    "        for j in range(i, 0, -1):\n",
    "          if b[j] < b[j-1]:\n",
    "            b[j], b[j-1] = b[j-1], b[j]\n",
    "          else:\n",
    "            break\n",
    "    print (b)\n",
    "start_time = time.time()\n",
    "for k in range(user_m):\n",
    "  copyMatr = copy.copy(Matrix[k])\n",
    "  sortIn(copyMatr)\n",
    "print(\"--- {0} ms ---\".format(round((time.time() - start_time)*1000)))"
   ]
  },
  {
   "cell_type": "code",
   "execution_count": null,
   "id": "vital-implementation",
   "metadata": {
    "colab": {
     "base_uri": "https://localhost:8080/"
    },
    "id": "vital-implementation",
    "outputId": "b96bb648-9510-4950-e8ad-ae417fa34be1"
   },
   "outputs": [
    {
     "name": "stdout",
     "output_type": "stream",
     "text": [
      "[-8, -2, 0, 14, 17, 17, 17, 18, 22, 24]\n",
      "[0, 4, 7, 10, 11, 16, 19, 21, 21, 23]\n",
      "[-9, -6, -2, 1, 8, 12, 14, 16, 16, 20]\n",
      "[-10, -10, -6, -3, -2, -1, 0, 7, 18, 21]\n",
      "[-4, -1, 7, 18, 21, 22, 22, 23, 25, 25]\n",
      "[-5, 0, 0, 1, 2, 3, 4, 5, 6, 12]\n",
      "[-7, -6, -3, 0, 1, 9, 9, 10, 15, 24]\n",
      "[-9, 0, 1, 2, 3, 4, 12, 13, 17, 23]\n",
      "[-9, -2, 11, 17, 17, 18, 20, 23, 23, 26]\n",
      "[0, 2, 5, 12, 19, 20, 23, 24, 24, 24]\n",
      "--- 5 ms ---\n"
     ]
    }
   ],
   "source": [
    "# Сортировка обменом. || Сортировка пузырьком.\n",
    "def bubble(b):\n",
    "  for i in range(len(b)-1):\n",
    "      for j in range(len(b)-1-i):\n",
    "        if b[j] > b[j+1]:\n",
    "          b[j], b[j+1] = b[j+1], b[j]\n",
    "  print (b)\n",
    "start_time = time.time()\n",
    "for k in range(user_m):\n",
    "  copyMatr = copy.copy(Matrix[k])\n",
    "  bubble(copyMatr)\n",
    "print(\"--- {0} ms ---\".format(round((time.time() - start_time)*1000)))"
   ]
  },
  {
   "cell_type": "code",
   "execution_count": null,
   "id": "veterinary-glory",
   "metadata": {
    "colab": {
     "base_uri": "https://localhost:8080/"
    },
    "id": "veterinary-glory",
    "outputId": "7dde6f7c-f024-418d-a98d-52dd1c16f8b6"
   },
   "outputs": [
    {
     "name": "stdout",
     "output_type": "stream",
     "text": [
      "[-8, -2, 0, 14, 17, 17, 17, 18, 22, 24]\n",
      "[0, 4, 7, 10, 11, 16, 19, 21, 21, 23]\n",
      "[-9, -6, -2, 1, 8, 12, 14, 16, 16, 20]\n",
      "[-10, -10, -6, -3, -2, -1, 0, 7, 18, 21]\n",
      "[-4, -1, 7, 18, 21, 22, 22, 23, 25, 25]\n",
      "[-5, 0, 0, 1, 2, 3, 4, 5, 6, 12]\n",
      "[-7, -6, -3, 0, 1, 9, 9, 10, 15, 24]\n",
      "[-9, 0, 1, 2, 3, 4, 12, 13, 17, 23]\n",
      "[-9, -2, 11, 17, 17, 18, 20, 23, 23, 26]\n",
      "[0, 2, 5, 12, 19, 20, 23, 24, 24, 24]\n",
      "--- 3 ms ---\n"
     ]
    }
   ],
   "source": [
    "from ast import Add\n",
    "# Сортировка Шелла.\n",
    "#TODO\n",
    "def sortExch(b):\n",
    "  gap = len(b) // 2\n",
    "  while gap > 0:\n",
    "    for i in range(gap, len(b)):\n",
    "      curval = b[i]\n",
    "      pos = i\n",
    "      while pos >= gap and b[pos - gap] > curval:\n",
    "        b[pos] = b[pos - gap]\n",
    "        pos -= gap\n",
    "        b[pos] = curval\n",
    "    gap //= 2\n",
    "  print (b)\n",
    "start_time = time.time()\n",
    "for k in range(user_m):\n",
    "  copyMatr = copy.copy(Matrix[k])\n",
    "  sortExch(copyMatr)\n",
    "print(\"--- {0} ms ---\".format(round((time.time() - start_time)*1000)))"
   ]
  },
  {
   "cell_type": "code",
   "execution_count": null,
   "id": "correct-chaos",
   "metadata": {
    "colab": {
     "base_uri": "https://localhost:8080/"
    },
    "id": "correct-chaos",
    "outputId": "4a7c880a-2b28-4fc0-d340-fe65982bf500"
   },
   "outputs": [
    {
     "name": "stdout",
     "output_type": "stream",
     "text": [
      "[-8, -2, 0, 14, 17, 17, 17, 18, 22, 24]\n",
      "[0, 4, 7, 10, 11, 16, 19, 21, 21, 23]\n",
      "[-9, -6, -2, 1, 8, 12, 14, 16, 16, 20]\n",
      "[-10, -10, -6, -3, -2, -1, 0, 7, 18, 21]\n",
      "[-4, -1, 7, 18, 21, 22, 22, 23, 25, 25]\n",
      "[-5, 0, 0, 1, 2, 3, 4, 5, 6, 12]\n",
      "[-7, -6, -3, 0, 1, 9, 9, 10, 15, 24]\n",
      "[-9, 0, 1, 2, 3, 4, 12, 13, 17, 23]\n",
      "[-9, -2, 11, 17, 17, 18, 20, 23, 23, 26]\n",
      "[0, 2, 5, 12, 19, 20, 23, 24, 24, 24]\n",
      "--- 0 ms ---\n"
     ]
    }
   ],
   "source": [
    "# Быстрая сортировка.\n",
    "\n",
    "#TODO\n",
    "def quick_sort(a):\n",
    "  if len(a) <= 1:\n",
    "    return a\n",
    "  greater = []\n",
    "  equal = []\n",
    "  lesser = []\n",
    "  for i in range(len(a)):\n",
    "    if a[i] == a[0]:\n",
    "      equal.append(a[i])\n",
    "    elif a[i] > a[0]:\n",
    "      greater.append(a[i])\n",
    "    else:\n",
    "      lesser.append(a[i])\n",
    "  return quick_sort(lesser) + equal + quick_sort(greater)\n",
    "start_time = time.time()\n",
    "for k in range(user_m):\n",
    "  copyMatr = copy.copy(Matrix[k])\n",
    "  print(quick_sort(copyMatr))\n",
    "print(\"--- {0} ms ---\".format(round((time.time() - start_time)*1000)))\n",
    "    "
   ]
  },
  {
   "cell_type": "code",
   "execution_count": null,
   "id": "french-czech",
   "metadata": {
    "colab": {
     "base_uri": "https://localhost:8080/"
    },
    "id": "french-czech",
    "outputId": "0fe2504c-5f83-4b8d-ac38-3c3a4ca08ca6"
   },
   "outputs": [
    {
     "name": "stdout",
     "output_type": "stream",
     "text": [
      "[-8, -2, 0, 14, 17, 17, 17, 18, 22, 24]\n",
      "[0, 4, 7, 10, 11, 16, 19, 21, 21, 23]\n",
      "[-9, -6, -2, 1, 8, 12, 14, 16, 16, 20]\n",
      "[-10, -10, -6, -3, -2, -1, 0, 7, 18, 21]\n",
      "[-4, -1, 7, 18, 21, 22, 22, 23, 25, 25]\n",
      "[-5, 0, 0, 1, 2, 3, 4, 5, 6, 12]\n",
      "[-7, -6, -3, 0, 1, 9, 9, 10, 15, 24]\n",
      "[-9, 0, 1, 2, 3, 4, 12, 13, 17, 23]\n",
      "[-9, -2, 11, 17, 17, 18, 20, 23, 23, 26]\n",
      "[0, 2, 5, 12, 19, 20, 23, 24, 24, 24]\n",
      "--- 1 ms ---\n"
     ]
    }
   ],
   "source": [
    "# Турнирная сортировка.\n",
    "#TODO\n",
    "def heapify(a, n, i):\n",
    "  max = i\n",
    "  left = 2*i+1\n",
    "  right = 2*i+2\n",
    "  if left < n and a[i] < a[left]:\n",
    "    max = left\n",
    "  if right < n and a[max] < a[right]:\n",
    "    max = right\n",
    "  if max != i:\n",
    "    a[i], a[max] = a[max], a[i]\n",
    "    heapify(a, n, max)\n",
    "start_time = time.time()\n",
    "for k in range(user_m):\n",
    "  copyMatr = copy.copy(Matrix[k])\n",
    "  for i in range(len(copyMatr)//2, -1, -1):\n",
    "      heapify(copyMatr, len(copyMatr), i)\n",
    "  for i in range(len(copyMatr)-1, 0, -1):\n",
    "      copyMatr[i], copyMatr[0] = copyMatr[0], copyMatr[i]\n",
    "      heapify(copyMatr, i, 0)\n",
    "  print(copyMatr)\n",
    "print(\"--- {0} ms ---\".format(round((time.time() - start_time)*1000)))"
   ]
  },
  {
   "cell_type": "markdown",
   "id": "rental-jerusalem",
   "metadata": {
    "id": "rental-jerusalem"
   },
   "source": [
    "### Вывод\n"
   ]
  },
  {
   "cell_type": "markdown",
   "id": "9d108a0a",
   "metadata": {
    "id": "9d108a0a"
   },
   "source": [
    "В этой лабораторной работе мы создали программу для генерации матриц и так же разобрали варианты сортировки"
   ]
  }
 ],
 "metadata": {
  "colab": {
   "provenance": []
  },
  "kernelspec": {
   "display_name": "Python 3 (ipykernel)",
   "language": "python",
   "name": "python3"
  },
  "language_info": {
   "codemirror_mode": {
    "name": "ipython",
    "version": 3
   },
   "file_extension": ".py",
   "mimetype": "text/x-python",
   "name": "python",
   "nbconvert_exporter": "python",
   "pygments_lexer": "ipython3",
   "version": "3.10.10"
  }
 },
 "nbformat": 4,
 "nbformat_minor": 5
}
