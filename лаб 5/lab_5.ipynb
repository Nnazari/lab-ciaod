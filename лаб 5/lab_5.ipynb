{
 "cells": [
  {
   "cell_type": "markdown",
   "id": "db4b50f0",
   "metadata": {
    "id": "db4b50f0"
   },
   "source": [
    "# Лабораторная работа №5\n",
    "## Выполнил студент группы Мжваия Н.Р БСТ2105"
   ]
  },
  {
   "cell_type": "code",
   "execution_count": 14,
   "id": "4839be2b",
   "metadata": {
    "id": "4839be2b"
   },
   "outputs": [],
   "source": [
    "# Необходим при замере скорости выполнения кода\n",
    "# Нужен для создания словаря в алг. Бойера-Мура\n",
    "from collections import defaultdict\n",
    "import time\n",
    "import pandas as pd"
   ]
  },
  {
   "cell_type": "markdown",
   "id": "inclusive-motorcycle",
   "metadata": {
    "id": "inclusive-motorcycle"
   },
   "source": [
    "### Задание №1\n",
    "Реализовать методы поиска подстроки в строке. Добавить возможность ввода строки и подстроки с клавиатуры. Предусмотреть возможность существования пробела. Реализовать возможность выбора опции чувствительности или нечувствительности к регистру. Оценить время работы каждого алгоритма поиска и сравнить его со временем работы стандартной функции поиска, используемой в выбранном языке программирования."
   ]
  },
  {
   "cell_type": "markdown",
   "id": "interracial-communication",
   "metadata": {
    "id": "interracial-communication"
   },
   "source": [
    "#### Алгоритм Кнута-Морриса-Пратта"
   ]
  },
  {
   "cell_type": "code",
   "execution_count": 9,
   "id": "presidential-level",
   "metadata": {
    "id": "presidential-level"
   },
   "outputs": [],
   "source": [
    "def KMP(text: str, pattern: str, ignore_сase=False) -> bool:\n",
    "    if ignore_сase:\n",
    "        text = text.lower()\n",
    "        pattern = pattern.lower()\n",
    "    t = len(text)\n",
    "    p = len(pattern)\n",
    "    if p > t:\n",
    "        return False\n",
    "    # массив содержащий максимальные длины суффиксов для каждого элемента в подстроке\n",
    "    max_suffix = [0]*p\n",
    "    j = 0\n",
    "    for i in range(1, p-1):\n",
    "        if pattern[j] == pattern[i]:\n",
    "            max_suffix[i] = j+1\n",
    "            j += 1\n",
    "        else:\n",
    "            if j == 0:\n",
    "                max_suffix[i] = 0\n",
    "            else:\n",
    "                j = max_suffix[j-1]\n",
    "    i, j = 0, 0 # i - итератор по тексту, j - итератор по подстроке\n",
    "    while i < t:\n",
    "        if text[i] == pattern[j]:\n",
    "            i += 1\n",
    "            j += 1\n",
    "            if j == p:\n",
    "                return True # подстрока найдена\n",
    "        else:\n",
    "            if j > 0:\n",
    "                j = max_suffix[j-1]\n",
    "            else:\n",
    "                i += 1\n",
    "    if i == t and j != p:\n",
    "        return False  "
   ]
  },
  {
   "cell_type": "code",
   "execution_count": 10,
   "id": "98b42b8c",
   "metadata": {},
   "outputs": [
    {
     "name": "stdout",
     "output_type": "stream",
     "text": [
      "Подстрока для поиска: 0\n",
      "Ингорировать регистр (True/False): 0\n",
      "Подстрока не найдена\n"
     ]
    }
   ],
   "source": [
    "pattern, options = input(\"Подстрока для поиска: \"), bool(input(\"Ингорировать регистр (True/False): \").title())\n",
    "with open(\"sources/0.txt\", \"r\", encoding=\"utf-8\") as f:\n",
    "    data = f.read()\n",
    "if KMP(data, pattern, options):\n",
    "    print(\"Подстрока найдена\")\n",
    "else:\n",
    "    print(\"Подстрока не найдена\")"
   ]
  },
  {
   "cell_type": "markdown",
   "id": "downtown-option",
   "metadata": {
    "id": "downtown-option"
   },
   "source": [
    "#### Упрощенный алгоритм Бойера-Мура"
   ]
  },
  {
   "cell_type": "code",
   "execution_count": 11,
   "id": "respective-reggae",
   "metadata": {
    "id": "respective-reggae"
   },
   "outputs": [],
   "source": [
    "def BM(text: str, pattern: str, ignore_сase=False) -> bool:\n",
    "    # значение по умолчанию для смещения, если буква отсутствует в паттерне\n",
    "    def default_value():\n",
    "        return len(pattern) \n",
    "    \n",
    "    if ignore_сase:\n",
    "        text = text.lower()\n",
    "        pattern = pattern.lower()\n",
    "    t = len(text)\n",
    "    p = len(pattern)\n",
    "    if p > t:\n",
    "        return False\n",
    "    d = defaultdict(default_value) # словарь смещений\n",
    "    #заполнение словаря смещений\n",
    "    for i in range(p-2, -1, -1):\n",
    "        if pattern[i] not in d:\n",
    "            d[pattern[i]] = p-i-1\n",
    "    if pattern[p-1] not in d:\n",
    "        d[pattern[p-1]] = p\n",
    "    i = p-1 # счетчик проверяемого символа в тексте\n",
    "    while(i < t):\n",
    "        k = 0 # указатель внутри текста k = [0, len(text)-1], охватывает предыдущие символы в тексте\n",
    "        j = 0 # указатель внутри паттерна\n",
    "        mismatch = False\n",
    "        for j in range(p-1, -1, -1): \n",
    "            if text[i-k] != pattern[j]:\n",
    "                if j == p-1:\n",
    "                    offset = d[text[i]] # смещение, если не равен последний символ образа\n",
    "                else:\n",
    "                    offset = d[pattern[j]] # смещение, если не равен не последний символ образа\n",
    "                i += offset # смещение счетчика строки\n",
    "                mismatch = True # если несовпадение символа, то mismatch = True\n",
    "                break\n",
    "            k += 1\n",
    "        if not mismatch:\n",
    "            return True\n",
    "    return False"
   ]
  },
  {
   "cell_type": "code",
   "execution_count": 12,
   "id": "29d19b17",
   "metadata": {},
   "outputs": [
    {
     "name": "stdout",
     "output_type": "stream",
     "text": [
      "Подстрока для поиска: язык\n",
      "Ингорировать регистр (True/False): 1\n",
      "Подстрока найдена\n"
     ]
    }
   ],
   "source": [
    "pattern, options = input(\"Подстрока для поиска: \"), bool(input(\"Ингорировать регистр (True/False): \").title())\n",
    "with open(\"sources/0.txt\", \"r\", encoding=\"utf-8\") as f:\n",
    "    data = f.read()\n",
    "if BM(data, pattern, options):\n",
    "    print(\"Подстрока найдена\")\n",
    "else:\n",
    "    print(\"Подстрока не найдена\")"
   ]
  },
  {
   "cell_type": "code",
   "execution_count": 15,
   "id": "79144a90",
   "metadata": {},
   "outputs": [],
   "source": [
    "texts = []\n",
    "elems = []\n",
    "for i in range(6):\n",
    "    with open(f\"sources/{i}.txt\", \"r\", encoding=\"ansi\") as f:\n",
    "        texts.append(f.read())\n",
    "KMP_time, BM_time, Python_time = [], [], []\n",
    "for text in texts:\n",
    "    elems.append(len(text))\n",
    "    start = time.perf_counter()\n",
    "    KMP(text, \"простипрощайпривет\")\n",
    "    end = time.perf_counter()\n",
    "    KMP_time.append(end-start)\n",
    "    start = time.perf_counter()\n",
    "    BM(text, \"простипрощайпривет\")\n",
    "    end = time.perf_counter()\n",
    "    BM_time.append(end-start)\n",
    "    start = time.perf_counter()\n",
    "    text.find(\"простипрощайпривет\")\n",
    "    end = time.perf_counter()\n",
    "    Python_time.append(end-start)"
   ]
  },
  {
   "cell_type": "code",
   "execution_count": 16,
   "id": "8c1512d1",
   "metadata": {},
   "outputs": [
    {
     "data": {
      "text/html": [
       "<div>\n",
       "<style scoped>\n",
       "    .dataframe tbody tr th:only-of-type {\n",
       "        vertical-align: middle;\n",
       "    }\n",
       "\n",
       "    .dataframe tbody tr th {\n",
       "        vertical-align: top;\n",
       "    }\n",
       "\n",
       "    .dataframe thead th {\n",
       "        text-align: right;\n",
       "    }\n",
       "</style>\n",
       "<table border=\"1\" class=\"dataframe\">\n",
       "  <thead>\n",
       "    <tr style=\"text-align: right;\">\n",
       "      <th></th>\n",
       "      <th>Кнутт-Моррис-Пратт</th>\n",
       "      <th>Бойер-Мур</th>\n",
       "      <th>Python</th>\n",
       "    </tr>\n",
       "    <tr>\n",
       "      <th>Длина текста</th>\n",
       "      <th></th>\n",
       "      <th></th>\n",
       "      <th></th>\n",
       "    </tr>\n",
       "  </thead>\n",
       "  <tbody>\n",
       "    <tr>\n",
       "      <th>773</th>\n",
       "      <td>0.000129</td>\n",
       "      <td>0.000040</td>\n",
       "      <td>0.000002</td>\n",
       "    </tr>\n",
       "    <tr>\n",
       "      <th>348652</th>\n",
       "      <td>0.062193</td>\n",
       "      <td>0.014674</td>\n",
       "      <td>0.000192</td>\n",
       "    </tr>\n",
       "    <tr>\n",
       "      <th>384041</th>\n",
       "      <td>0.073218</td>\n",
       "      <td>0.016575</td>\n",
       "      <td>0.000201</td>\n",
       "    </tr>\n",
       "    <tr>\n",
       "      <th>445014</th>\n",
       "      <td>0.086740</td>\n",
       "      <td>0.020130</td>\n",
       "      <td>0.000243</td>\n",
       "    </tr>\n",
       "    <tr>\n",
       "      <th>1308910</th>\n",
       "      <td>0.237209</td>\n",
       "      <td>0.039186</td>\n",
       "      <td>0.000632</td>\n",
       "    </tr>\n",
       "    <tr>\n",
       "      <th>1527944</th>\n",
       "      <td>0.302216</td>\n",
       "      <td>0.068512</td>\n",
       "      <td>0.000836</td>\n",
       "    </tr>\n",
       "  </tbody>\n",
       "</table>\n",
       "</div>"
      ],
      "text/plain": [
       "              Кнутт-Моррис-Пратт  Бойер-Мур    Python\n",
       "Длина текста                                         \n",
       "773                     0.000129   0.000040  0.000002\n",
       "348652                  0.062193   0.014674  0.000192\n",
       "384041                  0.073218   0.016575  0.000201\n",
       "445014                  0.086740   0.020130  0.000243\n",
       "1308910                 0.237209   0.039186  0.000632\n",
       "1527944                 0.302216   0.068512  0.000836"
      ]
     },
     "execution_count": 16,
     "metadata": {},
     "output_type": "execute_result"
    }
   ],
   "source": [
    "df = pd.DataFrame({'Длина текста': [elems[i] for i in range(6)],\n",
    "                   'Кнутт-Моррис-Пратт': [KMP_time[i] for i in range(6)],\n",
    "                   'Бойер-Мур': [BM_time[i] for i in range(6)],\n",
    "                   'Python': [Python_time[i] for i in range(6)]}).round(6)\n",
    "\n",
    "df.set_index('Длина текста')"
   ]
  },
  {
   "cell_type": "markdown",
   "id": "hybrid-memorial",
   "metadata": {
    "id": "hybrid-memorial"
   },
   "source": [
    "### Задание №2\n",
    "Написать программу, определяющую, является ли данное\n",
    "расположение «решаемым», то есть можно ли из него за конечное число\n",
    "шагов перейти к правильному. Если это возможно, то необходимо найти хотя\n",
    "бы одно решение - последовательность движений, после которой числа будут\n",
    "расположены в правильном порядке.\n",
    "#### Входные данные: массив чисел, представляющий собой расстановку в\n",
    "Порядке «слева направо, сверху вниз». Число 0 обозначает пустое поле.\n",
    "Например, массив [1, 2, 3, 4, 5, 6, 7, 8, 9, 10, 11, 12, 13, 14, 15, 0] представляет\n",
    "собой «решенную» позицию элементов.\n",
    "#### Выходные данные: если решения нет, то функция должна вернуть\n",
    "Пустой массив []. Если решение есть, то необходимо представить решение —\n",
    "для каждого шага записывается номер передвигаемого на данном шаге\n",
    "элемента. "
   ]
  },
  {
   "cell_type": "code",
   "execution_count": null,
   "id": "eleven-generic",
   "metadata": {
    "id": "eleven-generic"
   },
   "outputs": [],
   "source": []
  },
  {
   "cell_type": "markdown",
   "id": "arbitrary-amazon",
   "metadata": {
    "id": "arbitrary-amazon"
   },
   "source": [
    "### Вывод"
   ]
  },
  {
   "cell_type": "markdown",
   "id": "71bc58bf",
   "metadata": {
    "id": "71bc58bf"
   },
   "source": []
  }
 ],
 "metadata": {
  "colab": {
   "provenance": []
  },
  "kernelspec": {
   "display_name": "Python 3 (ipykernel)",
   "language": "python",
   "name": "python3"
  },
  "language_info": {
   "codemirror_mode": {
    "name": "ipython",
    "version": 3
   },
   "file_extension": ".py",
   "mimetype": "text/x-python",
   "name": "python",
   "nbconvert_exporter": "python",
   "pygments_lexer": "ipython3",
   "version": "3.9.13"
  }
 },
 "nbformat": 4,
 "nbformat_minor": 5
}
