{
 "cells": [
  {
   "cell_type": "markdown",
   "id": "fifteen-sailing",
   "metadata": {
    "id": "fifteen-sailing"
   },
   "source": [
    "# Лабораторная работа №4\n",
    "## Выполнил студент Мжавия Назарий Рамазовичк группы БСТ2105"
   ]
  },
  {
   "cell_type": "markdown",
   "id": "arctic-stocks",
   "metadata": {
    "id": "arctic-stocks"
   },
   "source": [
    "Реализовать следующие структуры данных:\n",
    "  \n",
    "● <b> Стек (stack): </b>  \n",
    "Операции для стека: \n",
    "<i> инициализация, проверка на пустоту, добавление нового элемента в начало, извлечение элемента из начала;  </i>  \n",
    "  \n",
    "● <b> Дек (двусторонняя очередь, deque):  </b>  \n",
    "Операции для дека: \n",
    "<i> инициализация, проверка на пустоту, добавление нового элемента в начало, добавление нового элемента в конец, извлечение элемента из начала, извлечение элемента из конца. </i>  \n",
    "  \n",
    "<i> Разработать программу обработки данных, содержащихся в заранее подготовленном txt-файле, в соответствии с заданиями, применив указанную в задании структуру данных. Результат работы программы вывести на экран и сохранить в отдельном txt-файле. </i>"
   ]
  },
  {
   "cell_type": "markdown",
   "id": "5d7edb08",
   "metadata": {
    "id": "5d7edb08",
    "scrolled": true
   },
   "source": [
    "### Задание №1\n",
    "Отсортировать строки файла, содержащие названия книг, в алфавитном порядке с использованием двух деков."
   ]
  },
  {
   "cell_type": "code",
   "execution_count": 80,
   "id": "001de1de",
   "metadata": {},
   "outputs": [],
   "source": [
    "class Deque:\n",
    "    def __init__(self):\n",
    "        self.items = []\n",
    "\n",
    "    def isEmpty(self):\n",
    "        return self.items == []\n",
    "\n",
    "    def append(self, item):\n",
    "        self.items.append(item)\n",
    "\n",
    "    def appendleft(self, item):\n",
    "        self.items.insert(0,item)\n",
    "\n",
    "    def removeFront(self):\n",
    "        return self.items.pop()\n",
    "\n",
    "    def removeBack(self):\n",
    "        return self.items.pop(0)\n",
    "    \n",
    "    def get(self, a):\n",
    "        return self.items[a]\n",
    "\n",
    "    def size(self):\n",
    "        return len(self.items)\n",
    "    \n",
    "    def peek(self):\n",
    "         return self.items"
   ]
  },
  {
   "cell_type": "code",
   "execution_count": 4,
   "id": "2bacf9da",
   "metadata": {},
   "outputs": [],
   "source": [
    "# Создаем стек\n",
    "def create_stack():\n",
    "    stack = []\n",
    "    return stack\n",
    "\n",
    "# Создаем пустой стек\n",
    "def check_empty(stack):\n",
    "    return len(stack) == 0\n",
    "\n",
    "# Добавляем элементы в стек\n",
    "def push(stack, item):\n",
    "    stack.append(item)\n",
    "\n",
    "# Удаляем элементы из стека\n",
    "def pop(stack):\n",
    "    if (check_empty(stack)):\n",
    "        return\n",
    "\n",
    "    return stack.pop()"
   ]
  },
  {
   "cell_type": "code",
   "execution_count": 62,
   "id": "17702ade",
   "metadata": {
    "id": "17702ade"
   },
   "outputs": [
    {
     "name": "stdout",
     "output_type": "stream",
     "text": [
      "изначальны Файл:\n",
      " Властелин колец\n",
      " Гордость и предубеждение\n",
      " Тёмные начала\n",
      " Автостопом по галактике»\n",
      " Гарри Поттер и Кубок огня»\n",
      " Убить пересмешника»\n",
      " Винни Пух\n",
      " 1984\n",
      " Лев, колдунья и платяной шкаф\n",
      "\n",
      "Отсортированный файл:\n",
      " 1984\n",
      " Автостопом по галактике»\n",
      " Винни Пух\n",
      " Властелин колец\n",
      " Гарри Поттер и Кубок огня»\n",
      " Гордость и предубеждение\n",
      " Лев, колдунья и платяной шкаф Тёмные начала\n",
      " Убить пересмешника»\n",
      "\n"
     ]
    }
   ],
   "source": [
    "firstdeq,seconddeq = Deque(),Deque()\n",
    "with open(\"book.txt\", \"r\", encoding=\"utf-8\") as books:\n",
    "    for line in books:\n",
    "        firstdeq.append(line)\n",
    "print (\"изначальны Файл:\\n\",*firstdeq.peek())\n",
    "while firstdeq.size() != 0:\n",
    "    onebook = firstdeq.removeFront()\n",
    "    while seconddeq.size() != 0 and seconddeq.get(-1)>onebook:\n",
    "        firstdeq.appendleft(seconddeq.removeFront())\n",
    "    seconddeq.append(onebook)\n",
    "print (\"\\nОтсортированный файл:\\n\",*seconddeq.peek())\n",
    "with open(\"1book_sorted.txt\", \"w\", encoding=\"utf-8\") as writefile:\n",
    "    for elem in seconddeq.peek():\n",
    "        writefile.write(elem)"
   ]
  },
  {
   "cell_type": "markdown",
   "id": "49fbd2a0",
   "metadata": {
    "id": "49fbd2a0"
   },
   "source": [
    "### Задание №2\n",
    "Дек содержит последовательность символов для шифровки сообщений. Дан текстовый файл, содержащий зашифрованное сообщение. Пользуясь деком, расшифровать текст. \n",
    "Известно, что при шифровке каждый символ сообщения заменялся следующим за ним в деке по часовой стрелке через один."
   ]
  },
  {
   "cell_type": "code",
   "execution_count": 46,
   "id": "81cab7a8",
   "metadata": {
    "id": "81cab7a8"
   },
   "outputs": [
    {
     "name": "stdout",
     "output_type": "stream",
     "text": [
      "Введите сообщение для шифровки: мама\n",
      "Зашифрованное сообщение:  овов\n"
     ]
    }
   ],
   "source": [
    "key = 2\n",
    "alphabet = list('абвгдеёжзийклмнопрстуфхцчшщъыьэюя')\n",
    "file,csh = Deque(),Deque()\n",
    "for i in range(len(alphabet)):\n",
    "    csh.append(alphabet[(i+key)%len(alphabet)])\n",
    "file = list(input(\"Введите сообщение для шифровки: \").lower())\n",
    "ans = \"\"\n",
    "for char in file:\n",
    "    if char in alphabet:\n",
    "        ans += csh.get(alphabet.index(char))\n",
    "    else:\n",
    "        ans +=char\n",
    "print(\"Зашифрованное сообщение: \",ans)\n",
    "\n",
    "with open(\"2encoded_message.txt\", \"w\", encoding=\"utf-8\") as writefile:\n",
    "    writefile.write(ans)"
   ]
  },
  {
   "cell_type": "markdown",
   "id": "c0894f47",
   "metadata": {
    "id": "c0894f47"
   },
   "source": [
    "### Задание №3\n",
    "Даны три стержня и n дисков различного размера. Диски можно надевать на стержни, образуя из них башни. Перенести n дисков со стержня А на стержень С, сохранив их первоначальный порядок. При переносе дисков необходимо соблюдать следующие правила:\n",
    "- на каждом шаге со стержня на стержень переносить только один диск;\n",
    "- диск нельзя помещать на диск меньшего размера;\n",
    "- для промежуточного хранения можно использовать стержень В.\n",
    "Реализовать алгоритм, используя три стека вместо стержней А, В, С. Информация о дисках хранится в исходном файле."
   ]
  },
  {
   "cell_type": "code",
   "execution_count": 48,
   "id": "9e91a9d4",
   "metadata": {
    "id": "9e91a9d4"
   },
   "outputs": [
    {
     "name": "stdout",
     "output_type": "stream",
     "text": [
      "Количество дисков = 3\n",
      "[3, 2, 1] [] []\n",
      "[] [] [3, 2, 1]\n"
     ]
    }
   ],
   "source": [
    "n = int(input(\"Количество дисков = \"))\n",
    "A, B, C = [i for i in range(n,0,-1)], [], []\n",
    "\n",
    "print(A, B, C)\n",
    "\n",
    "def disks(n, start, tmp, end):\n",
    "    if n < 0:\n",
    "        return\n",
    "    disks(n-1, start, end, tmp)\n",
    "    if len(start)>0:\n",
    "        end.append(start.pop())\n",
    "    disks(n - 1, tmp, start, end)\n",
    "\n",
    "disks(n, A, B, C)\n",
    "print(A, B, C)"
   ]
  },
  {
   "cell_type": "markdown",
   "id": "e5b0be17",
   "metadata": {
    "id": "e5b0be17"
   },
   "source": [
    "### Задание №4\n",
    "Дан текстовый файл с программой на алгоритмическом языке. За один просмотр файла проверить баланс круглых скобок в тексте, используя стек."
   ]
  },
  {
   "cell_type": "code",
   "execution_count": 5,
   "id": "5b1df60a",
   "metadata": {
    "id": "5b1df60a"
   },
   "outputs": [
    {
     "name": "stdout",
     "output_type": "stream",
     "text": [
      "Баланс соблюден\n"
     ]
    }
   ],
   "source": [
    "stack = create_stack()\n",
    "flag = True\n",
    "\n",
    "with open(\"4progfile.txt\", \"r\", encoding=\"utf-8\") as readfile:\n",
    "    for string in readfile:\n",
    "        for char in string:\n",
    "            if char == \"(\":\n",
    "                push(stack,char)\n",
    "            if char == \")\":\n",
    "                if len(stack) == 0:\n",
    "                    flag = True\n",
    "                    break\n",
    "                pop(stack)\n",
    "                \n",
    "if len(stack) > 0:\n",
    "    flag = False\n",
    "\n",
    "print(\"Баланс соблюден\" if flag else \"Баланс не соблюден\")"
   ]
  },
  {
   "cell_type": "markdown",
   "id": "c44cdd6b",
   "metadata": {
    "id": "c44cdd6b"
   },
   "source": [
    "### Задание №5\n",
    "Дан текстовый файл с программой на алгоритмическом языке. За один просмотр файла проверить баланс квадратных скобок в тексте, используя дек."
   ]
  },
  {
   "cell_type": "code",
   "execution_count": 77,
   "id": "36b8f400",
   "metadata": {
    "id": "36b8f400"
   },
   "outputs": [
    {
     "name": "stdout",
     "output_type": "stream",
     "text": [
      "Баланс соблюден\n"
     ]
    }
   ],
   "source": [
    "deq = Deque()\n",
    "flag = True\n",
    "\n",
    "with open(\"4progfile.txt\", \"r\", encoding=\"utf-8\") as readfile:\n",
    "    for string in readfile:\n",
    "        for char in string:\n",
    "            if char == \"[\":\n",
    "                deq.append(char)\n",
    "            if char == \"]\":\n",
    "                if deq.size() == 0:\n",
    "                    flag = False\n",
    "                    break\n",
    "                deq.removeFront()\n",
    "                \n",
    "if deq.size() > 0:\n",
    "    flag = False\n",
    "\n",
    "print(\"Баланс соблюден\" if flag else \"Баланс не соблюден\")"
   ]
  },
  {
   "cell_type": "markdown",
   "id": "59d13dc7",
   "metadata": {
    "id": "59d13dc7"
   },
   "source": [
    "### Задание №6\n",
    "Дан файл из символов. Используя стек, за один просмотр файла напечатать сначала все цифры, затем все буквы, и, наконец, все остальные символы, сохраняя исходный порядок в каждой группе символов."
   ]
  },
  {
   "cell_type": "code",
   "execution_count": 7,
   "id": "297e36c2",
   "metadata": {
    "id": "297e36c2"
   },
   "outputs": [
    {
     "name": "stdout",
     "output_type": "stream",
     "text": [
      "21943190274112432192122112\n",
      "asdaqwefwhujadjnioheehdjqhjdejejdmwaaasdpkeldasldpqeqwe\n",
      " ,./ ./.  [,;', [, '\n"
     ]
    }
   ],
   "source": [
    "letters, numbers, others = create_stack(),create_stack(),create_stack()\n",
    "\n",
    "with open(\"random.txt\", \"r\", encoding=\"utf-8\") as readfile:\n",
    "    for string in readfile:\n",
    "        for char in string:\n",
    "            if char.isalpha():\n",
    "                push(letters,char)\n",
    "            elif char.isdigit():\n",
    "                push(numbers,char)\n",
    "            else:\n",
    "                push(others,char)\n",
    "\n",
    "letters.reverse()\n",
    "numbers.reverse()\n",
    "others.reverse()\n",
    "\n",
    "res_n, res_l, res_o = \"\", \"\", \"\"\n",
    "\n",
    "while numbers:\n",
    "    res_n += numbers.pop()\n",
    "while letters:\n",
    "    res_l += letters.pop()\n",
    "while others:\n",
    "    res_o += others.pop()\n",
    "print(res_n, res_l, res_o, sep=\"\\n\")"
   ]
  },
  {
   "cell_type": "markdown",
   "id": "973f68bd",
   "metadata": {
    "id": "973f68bd"
   },
   "source": [
    "### Задание №7\n",
    "Дан файл из целых чисел. Используя дек, за один просмотр файла напечатать сначала все отрицательные числа, затем все положительные числа, сохраняя исходный порядок в каждой группе."
   ]
  },
  {
   "cell_type": "code",
   "execution_count": 85,
   "id": "c56fad66",
   "metadata": {
    "id": "c56fad66"
   },
   "outputs": [
    {
     "name": "stdout",
     "output_type": "stream",
     "text": [
      "Исходный массив:\n",
      " 73 1 1 23 12 312 312 31 23123 123123 -123 -11 -1231 2131 12323 21 213 1 -123 231 -1\n",
      "Измененный массив:\n",
      "-123 -11 -1231 -123 -1 73 1 1 23 12 312 312 31 23123 123123 2131 12323 21 213 1 231 "
     ]
    }
   ],
   "source": [
    "deq = Deque()\n",
    "with open(\"7numbers.txt\", \"r\", encoding=\"utf-8\") as readfile:\n",
    "    s = readfile.readline().split()\n",
    "    print(\"Исходный массив:\\n\",*s)\n",
    "    s = map(int, s)\n",
    "for n in s:\n",
    "    if n < 0:\n",
    "        deq.appendleft(n)\n",
    "    else:\n",
    "        deq.append(n)\n",
    "while deq:\n",
    "    x = deq.removeBack()\n",
    "    if x < 0:\n",
    "        deq.append(x)\n",
    "    else:\n",
    "        deq.appendleft(x)\n",
    "        break\n",
    "print(\"Измененный массив:\")\n",
    "while deq.peek():\n",
    "    x = deq.removeFront()\n",
    "    if x < 0:\n",
    "        print(x, end = \" \")\n",
    "    else:\n",
    "        deq.append(x)\n",
    "        while deq.peek():\n",
    "            print(deq.removeBack(), end = \" \")\n",
    "        break"
   ]
  },
  {
   "cell_type": "markdown",
   "id": "b9228191",
   "metadata": {
    "id": "b9228191"
   },
   "source": [
    "### Задание №8\n",
    "Дан текстовый файл. Используя стек, сформировать новый текстовый файл, содержащий строки исходного файла, записанные в обратном порядке: первая строка становится последней, вторая – предпоследней и т.д."
   ]
  },
  {
   "cell_type": "code",
   "execution_count": 8,
   "id": "981fbdfe",
   "metadata": {
    "id": "981fbdfe"
   },
   "outputs": [
    {
     "name": "stdout",
     "output_type": "stream",
     "text": [
      "Властелин колец\n",
      "Гордость и предубеждение\n",
      "Тёмные начала\n",
      "Автостопом по галактике»\n",
      "Гарри Поттер и Кубок огня»\n",
      "Убить пересмешника»\n",
      "Винни Пух\n",
      "1984\n",
      "Лев, колдунья и платяной шкаф\n",
      "\n",
      "Лев, колдунья и платяной шкаф1984\n",
      "Винни Пух\n",
      "Убить пересмешника»\n",
      "Гарри Поттер и Кубок огня»\n",
      "Автостопом по галактике»\n",
      "Тёмные начала\n",
      "Гордость и предубеждение\n",
      "Властелин колец\n"
     ]
    }
   ],
   "source": [
    "stack = create_stack()\n",
    "with open(\"book.txt\", \"r\", encoding=\"utf-8\") as readfile:\n",
    "    for string in readfile:\n",
    "        push(stack,string)\n",
    "        print(string, end = \"\")\n",
    "        \n",
    "print(\"\\n\")\n",
    "\n",
    "with open(\"book8.txt\", \"w\", encoding=\"utf-8\") as writefile:\n",
    "    while stack:\n",
    "        print(stack[-1], end = \"\")\n",
    "        writefile.write(pop(stack))\n",
    "        "
   ]
  },
  {
   "cell_type": "markdown",
   "id": "rental-jerusalem",
   "metadata": {
    "id": "rental-jerusalem"
   },
   "source": [
    "### Вывод\n",
    "Были реализованы струтурры данных как стек и дек.Так же был реализовна ввод и вывод данных в тесковом файле.Проект был загружен на Github:https://github.com/Nnazari/lab-ciaod"
   ]
  },
  {
   "cell_type": "markdown",
   "id": "0c2b8899",
   "metadata": {
    "id": "0c2b8899"
   },
   "source": []
  },
  {
   "cell_type": "code",
   "execution_count": null,
   "id": "1aee337c",
   "metadata": {},
   "outputs": [],
   "source": []
  }
 ],
 "metadata": {
  "colab": {
   "provenance": []
  },
  "kernelspec": {
   "display_name": "Python 3 (ipykernel)",
   "language": "python",
   "name": "python3"
  },
  "language_info": {
   "codemirror_mode": {
    "name": "ipython",
    "version": 3
   },
   "file_extension": ".py",
   "mimetype": "text/x-python",
   "name": "python",
   "nbconvert_exporter": "python",
   "pygments_lexer": "ipython3",
   "version": "3.9.13"
  }
 },
 "nbformat": 4,
 "nbformat_minor": 5
}
