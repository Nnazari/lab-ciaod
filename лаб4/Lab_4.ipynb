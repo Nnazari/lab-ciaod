{
 "cells": [
  {
   "cell_type": "markdown",
   "id": "d63536a2",
   "metadata": {},
   "source": [
    "# Лабораторная работа 4. Методы поиска."
   ]
  },
  {
   "cell_type": "markdown",
   "id": "74073e29",
   "metadata": {},
   "source": [
    "# Выполнил студент группы БСТ2105 Мжавия Н.Р"
   ]
  },
  {
   "cell_type": "raw",
   "id": "adbb8103",
   "metadata": {},
   "source": [
    "Реализовать методы поиска в соответствии с заданием. Организовать генерацию начального набора случайных данных. Для всех вариантов добавить реализацию добавления, поиска и удаления элементов. Оценить время работы каждого алгоритма поиска и сравнить его со временем работы стандартной функции поиска, используемой в выбранном языке программирования."
   ]
  },
  {
   "cell_type": "code",
   "execution_count": 35,
   "id": "a9a7b218",
   "metadata": {},
   "outputs": [],
   "source": [
    "import random\n",
    "import math\n",
    "import time\n",
    "import pandas as pd\n",
    "import matplotlib.pyplot as plt"
   ]
  },
  {
   "cell_type": "markdown",
   "id": "917e7cdb",
   "metadata": {},
   "source": [
    "# Задание 1 "
   ]
  },
  {
   "cell_type": "markdown",
   "id": "70a78da3",
   "metadata": {},
   "source": [
    "# Бинарное дерево"
   ]
  },
  {
   "cell_type": "code",
   "execution_count": 67,
   "id": "ebcb365f",
   "metadata": {},
   "outputs": [],
   "source": [
    "class Node:\n",
    "    def __init__(self, value):\n",
    "        self.value = value\n",
    "        self.left = None\n",
    "        self.right = None\n",
    "\n",
    "\n",
    "class BinaryTree:\n",
    "    def __init__(self):\n",
    "        self.root = None\n",
    "\n",
    "    def insert(self, value):\n",
    "        new_node = Node(value)  # Создание нового узла\n",
    "        if self.root is None:  # Если дерево пустое\n",
    "            self.root = new_node  # Новый узел становится корневым\n",
    "            return\n",
    "        current = self.root  # Текущий узел - корневой\n",
    "        while True:\n",
    "            if value < current.value:  # Если значение меньше значения текущего узла\n",
    "                if current.left is None:  # Если левый потомок отсутствует\n",
    "                    current.left = new_node  # Новый узел становится левым потомком текущего узла\n",
    "                    break\n",
    "                current = current.left  # Текущим узлом становится левый потомок текущего узла\n",
    "            else:  # Если значение больше или равно значению текущего узла\n",
    "                if current.right is None:  # Если правый потомок отсутствует\n",
    "                    current.right = new_node  # Новый узел становится правым потомком текущего узла\n",
    "                    break\n",
    "                current = current.right  # Текущим узлом становится правый потомок текущего узла\n",
    "\n",
    "    def search(self, value):\n",
    "        current = self.root  # Текущий узел - корневой\n",
    "        while True:\n",
    "            if current is None:  # Если текущий узел отсутствует\n",
    "                return False  # Узел не найден\n",
    "            if current.value == value:  # Если значения текущего узла искомого узла равны\n",
    "                return True  # Узел найден\n",
    "            elif value < current.value:  # Если значение меньше значения текущего узла\n",
    "                current = current.left  # Текущим узлом становится левый потомок текущего узла\n",
    "            else:  # Если значение больше значения текущего узла\n",
    "                current = current.right  # Текущим узлом становится правый потомок текущего узла\n",
    "                \n",
    "    def printTree(self, node):\n",
    "        if node is None:\n",
    "            return\n",
    "        self.printTree(node.left)\n",
    "        print(node.value)\n",
    "        self.printTree(node.right)"
   ]
  },
  {
   "cell_type": "code",
   "execution_count": 69,
   "id": "df97f1be",
   "metadata": {},
   "outputs": [
    {
     "name": "stdout",
     "output_type": "stream",
     "text": [
      "True\n",
      "2\n",
      "3\n",
      "3\n",
      "3\n",
      "3\n",
      "4\n",
      "6\n",
      "7\n",
      "8\n",
      "10\n"
     ]
    }
   ],
   "source": [
    "tree = BinaryTree()\n",
    "for i in range(10):\n",
    "    tree.insert(random.randint(1, 10))\n",
    "print(tree.search(8))\n",
    "tree.printTree(tree.root)"
   ]
  },
  {
   "cell_type": "code",
   "execution_count": 56,
   "id": "6f6eee25",
   "metadata": {},
   "outputs": [
    {
     "name": "stdout",
     "output_type": "stream",
     "text": [
      "Исходные данные: [9, 26, 33, 57, 86, 88, 90, 92, 99, 100]\n"
     ]
    }
   ],
   "source": [
    "data = [random.randint(1, 100) for i in range(10)]\n",
    "data.sort()\n",
    "print('Исходные данные:', data)"
   ]
  },
  {
   "cell_type": "markdown",
   "id": "20d39693",
   "metadata": {},
   "source": [
    "# Бинарный поиск"
   ]
  },
  {
   "cell_type": "code",
   "execution_count": 57,
   "id": "5125cb9b",
   "metadata": {},
   "outputs": [],
   "source": [
    "# Функция бинарного поиска принимает на вход отсортированный массив и элемент, который нужно найти\n",
    "def binary_search(arr, item):\n",
    "    mid = len(arr) // 2\n",
    "    low = 0 # Нижняя граница для поиска устанавливается на первый элемент массива\n",
    "    high = len(arr) - 1 # Верхняя граница для поиска устанавливается на последний элемент массива\n",
    "    while low < high and mid != value: # Пока нижняя граница не станет больше верхней границы\n",
    "        if arr[mid] > item: # Если средний элемент больше искомого, то ищем элемент в левой половине массива\n",
    "            high = mid - 1\n",
    "        else: # Иначе ищем элемент в правой половине массива\n",
    "            low = mid + 1\n",
    "        mid = (low + high) // 2 # Находим средний элемент массива\n",
    "    return None if high>low else mid # Если элемент не найден, то возвращаем None"
   ]
  },
  {
   "cell_type": "code",
   "execution_count": 58,
   "id": "aefdc2e2",
   "metadata": {},
   "outputs": [
    {
     "name": "stdout",
     "output_type": "stream",
     "text": [
      "Введите искомое значение: 9\n",
      "id элемента = 1\n"
     ]
    }
   ],
   "source": [
    "value = int(input(\"Введите искомое значение: \"))\n",
    "print(\"id элемента =\",binary_search(data,value))"
   ]
  },
  {
   "cell_type": "markdown",
   "id": "1d7c287f",
   "metadata": {},
   "source": [
    "# Фибоначчиев"
   ]
  },
  {
   "cell_type": "code",
   "execution_count": 59,
   "id": "c66b22b2",
   "metadata": {},
   "outputs": [],
   "source": [
    "def fibonacci_search(arr, item):\n",
    "    # Определяем числа Фибоначчи\n",
    "    fib1, fib2 = 0, 1\n",
    "    fib_sum = fib1 + fib2\n",
    "    while fib_sum < len(arr):\n",
    "        fib1 = fib2\n",
    "        fib2 = fib_sum\n",
    "        fib_sum = fib1 + fib2\n",
    "    # Инициализируем границы для поиска элемента\n",
    "    offset = -1\n",
    "    while fib_sum > 1:\n",
    "        i = min(offset + fib1, len(arr) - 1)\n",
    "        if arr[i] < item:\n",
    "            fib_sum = fib2\n",
    "            fib2 = fib1\n",
    "            fib1 = fib_sum - fib2\n",
    "            offset = i\n",
    "        elif arr[i] > item:\n",
    "            fib_sum = fib1\n",
    "            fib2 = fib2 - fib1\n",
    "            fib1 = fib_sum - fib2\n",
    "        else:\n",
    "            return i\n",
    "    if fib2 == 1 and arr[offset+1] == item:\n",
    "        return offset + 1\n",
    "    return None "
   ]
  },
  {
   "cell_type": "code",
   "execution_count": 60,
   "id": "a7b845f0",
   "metadata": {},
   "outputs": [
    {
     "name": "stdout",
     "output_type": "stream",
     "text": [
      "Исходны массив  [9, 26, 33, 57, 86, 88, 90, 92, 99, 100]\n",
      "Введите искомое значение: 9\n",
      "id элемента = 0\n"
     ]
    }
   ],
   "source": [
    "\n",
    "print (\"Исходны массив \", data)\n",
    "value = int(input(\"Введите искомое значение: \"))\n",
    "print(\"id элемента =\",fibonacci_search(data,value))"
   ]
  },
  {
   "cell_type": "code",
   "execution_count": 71,
   "id": "d4c59182",
   "metadata": {},
   "outputs": [],
   "source": [
    "def interpolation_search(arr, item):\n",
    "    low = 0\n",
    "    high = len(arr) - 1\n",
    "    while low <= high and item >= arr[low] and item <= arr[high]:\n",
    "        pos = low + ((item - arr[low]) * (high - low) // (arr[high] - arr[low]))\n",
    "        if arr[pos] == item:\n",
    "            return pos\n",
    "        elif arr[pos] < item:\n",
    "            low = pos + 1\n",
    "        else:\n",
    "            high = pos - 1\n",
    "    return None"
   ]
  },
  {
   "cell_type": "code",
   "execution_count": 73,
   "id": "f815459f",
   "metadata": {},
   "outputs": [
    {
     "name": "stdout",
     "output_type": "stream",
     "text": [
      "Исходны массив  [9, 26, 33, 57, 86, 88, 90, 92, 99, 100]\n",
      "Введите искомое значение: 100\n",
      "id элемента = 9\n"
     ]
    }
   ],
   "source": [
    "print (\"Исходны массив \", data)\n",
    "value = int(input(\"Введите искомое значение: \"))\n",
    "print(\"id элемента =\",interpolation_search(data,value))"
   ]
  },
  {
   "cell_type": "markdown",
   "id": "48de495f",
   "metadata": {},
   "source": [
    "Сравнение методов поиска"
   ]
  },
  {
   "cell_type": "code",
   "execution_count": 87,
   "id": "e270800d",
   "metadata": {},
   "outputs": [],
   "source": [
    "arrays, elems = [], []\n",
    "for i in range(1, 11):\n",
    "    arrays.append([random.randint(1, 1000*i) for _ in range(1000*i)])\n",
    "    elems.append(1000*i)"
   ]
  },
  {
   "cell_type": "code",
   "execution_count": 88,
   "id": "87059264",
   "metadata": {},
   "outputs": [
    {
     "name": "stdout",
     "output_type": "stream",
     "text": [
      "1000 элементов:  7.8e-05 cекунд\n",
      "2000 элементов:  0.000219 cекунд\n",
      "3000 элементов:  0.000339 cекунд\n",
      "4000 элементов:  0.000378 cекунд\n",
      "5000 элементов:  0.000472 cекунд\n",
      "6000 элементов:  0.000584 cекунд\n",
      "7000 элементов:  0.00069 cекунд\n",
      "8000 элементов:  0.000856 cекунд\n",
      "9000 элементов:  0.000984 cекунд\n",
      "10000 элементов:  0.00123 cекунд\n"
     ]
    }
   ],
   "source": [
    "binary = []\n",
    "for i in range(len(arrays)):\n",
    "    start = time.perf_counter()\n",
    "    array = sorted(arrays[i])\n",
    "    res = binary_search(array, 999*i+1)\n",
    "    end = time.perf_counter()\n",
    "    print(1000*(i+1), \"элементов: \", round(end-start, 6), \"cекунд\")\n",
    "    binary.append(end-start)"
   ]
  },
  {
   "cell_type": "code",
   "execution_count": 93,
   "id": "c3c8e528",
   "metadata": {},
   "outputs": [
    {
     "name": "stdout",
     "output_type": "stream",
     "text": [
      "1000 элементов:  0.000205 cекунд\n",
      "2000 элементов:  0.000185 cекунд\n",
      "3000 элементов:  0.000273 cекунд\n",
      "4000 элементов:  0.000365 cекунд\n",
      "5000 элементов:  0.000462 cекунд\n",
      "6000 элементов:  0.000573 cекунд\n",
      "7000 элементов:  0.000692 cекунд\n",
      "8000 элементов:  0.000785 cекунд\n",
      "9000 элементов:  0.00089 cекунд\n",
      "10000 элементов:  0.001023 cекунд\n"
     ]
    }
   ],
   "source": [
    "fibonacci = []\n",
    "for i in range(len(arrays)):\n",
    "    start = time.perf_counter()\n",
    "    array = sorted(arrays[i])\n",
    "    res = fibonacci_search(array, 999*i+1)\n",
    "    end = time.perf_counter()\n",
    "    print(1000*(i+1), \"элементов: \", round(end-start, 6), \"cекунд\")\n",
    "    fibonacci.append(end-start)"
   ]
  },
  {
   "cell_type": "code",
   "execution_count": 89,
   "id": "8b2139fe",
   "metadata": {},
   "outputs": [
    {
     "name": "stdout",
     "output_type": "stream",
     "text": [
      "1000 элементов:  6e-06 cекунд\n",
      "2000 элементов:  5e-06 cекунд\n",
      "3000 элементов:  4e-06 cекунд\n",
      "4000 элементов:  5e-06 cекунд\n",
      "5000 элементов:  3e-06 cекунд\n",
      "6000 элементов:  5e-06 cекунд\n",
      "7000 элементов:  5e-06 cекунд\n",
      "8000 элементов:  6e-06 cекунд\n",
      "9000 элементов:  5e-06 cекунд\n",
      "10000 элементов:  5e-06 cекунд\n"
     ]
    }
   ],
   "source": [
    "binarytree = []\n",
    "for i in range(len(arrays)):\n",
    "    tree = BinaryTree()\n",
    "    for elem in arrays[i]:\n",
    "        tree.insert(elem)\n",
    "    start = time.perf_counter()\n",
    "    res = tree.search(999*i+1)\n",
    "    end = time.perf_counter()\n",
    "    print(1000*(i+1), \"элементов: \", round(end-start, 6), \"cекунд\")\n",
    "    binarytree.append(end-start)"
   ]
  },
  {
   "cell_type": "code",
   "execution_count": 90,
   "id": "7565369b",
   "metadata": {},
   "outputs": [
    {
     "name": "stdout",
     "output_type": "stream",
     "text": [
      "1000 элементов:  0.000134 cекунд\n",
      "2000 элементов:  0.000176 cекунд\n",
      "3000 элементов:  0.000283 cекунд\n",
      "4000 элементов:  0.000373 cекунд\n",
      "5000 элементов:  0.00049 cекунд\n",
      "6000 элементов:  0.000629 cекунд\n",
      "7000 элементов:  0.000645 cекунд\n",
      "8000 элементов:  0.0008 cекунд\n",
      "9000 элементов:  0.001106 cекунд\n",
      "10000 элементов:  0.001258 cекунд\n"
     ]
    }
   ],
   "source": [
    "interpol = []\n",
    "for i in range(len(arrays)):\n",
    "    start = time.perf_counter()\n",
    "    array = sorted(arrays[i])\n",
    "    res = interpolation_search(array, 999*i+1)\n",
    "    end = time.perf_counter()\n",
    "    print(1000*(i+1), \"элементов: \", round(end-start, 6), \"cекунд\")\n",
    "    interpol.append(end-start)"
   ]
  },
  {
   "cell_type": "code",
   "execution_count": 91,
   "id": "3d1a9899",
   "metadata": {},
   "outputs": [
    {
     "name": "stdout",
     "output_type": "stream",
     "text": [
      "1000 элементов:  0.000139 cекунд\n",
      "2000 элементов:  0.000175 cекунд\n",
      "3000 элементов:  0.000326 cекунд\n",
      "4000 элементов:  0.000391 cекунд\n",
      "5000 элементов:  0.000497 cекунд\n",
      "6000 элементов:  0.0006 cекунд\n",
      "7000 элементов:  0.000714 cекунд\n",
      "8000 элементов:  0.000846 cекунд\n",
      "9000 элементов:  0.000998 cекунд\n",
      "10000 элементов:  0.001226 cекунд\n"
     ]
    }
   ],
   "source": [
    "python = []\n",
    "for i in range(len(arrays)):\n",
    "    start = time.perf_counter()\n",
    "    array = sorted(arrays[i])\n",
    "    try:\n",
    "        array.index(999*i+1)\n",
    "    except ValueError:\n",
    "        pass\n",
    "    end = time.perf_counter()\n",
    "    print(1000*(i+1), \"элементов: \", round(end-start, 6), \"cекунд\")\n",
    "    python.append(end-start)"
   ]
  },
  {
   "cell_type": "code",
   "execution_count": 94,
   "id": "ae6fc2a8",
   "metadata": {},
   "outputs": [
    {
     "data": {
      "image/png": "[encoded data removed]",
      "text/plain": [
       "<Figure size 640x480 with 1 Axes>"
      ]
     },
     "metadata": {},
     "output_type": "display_data"
    }
   ],
   "source": [
    "#общий график - сравнение алгоритмов\n",
    "plt.xlabel('Количество элементов')\n",
    "plt.ylabel('Временная сложность')\n",
    "plt.plot(elems, binary, label ='BinarySearch')\n",
    "plt.plot(elems, binarytree, label ='BinaryTree')\n",
    "plt.plot(elems, fibonacci, label ='FibonacciSearch')\n",
    "plt.plot(elems, interpol, label ='InterpolationSearch')\n",
    "plt.plot(elems, python, label ='PythonSearch')\n",
    "plt.grid()\n",
    "plt.legend()\n",
    "plt.show()"
   ]
  },
  {
   "cell_type": "code",
   "execution_count": 95,
   "id": "fcd3a4b6",
   "metadata": {},
   "outputs": [
    {
     "data": {
      "text/html": [
       "<div>\n",
       "<style scoped>\n",
       "    .dataframe tbody tr th:only-of-type {\n",
       "        vertical-align: middle;\n",
       "    }\n",
       "\n",
       "    .dataframe tbody tr th {\n",
       "        vertical-align: top;\n",
       "    }\n",
       "\n",
       "    .dataframe thead th {\n",
       "        text-align: right;\n",
       "    }\n",
       "</style>\n",
       "<table border=\"1\" class=\"dataframe\">\n",
       "  <thead>\n",
       "    <tr style=\"text-align: right;\">\n",
       "      <th></th>\n",
       "      <th>BinarySearch</th>\n",
       "      <th>BinaryTree</th>\n",
       "      <th>FibonacciSearch</th>\n",
       "      <th>InterpolationSearch</th>\n",
       "      <th>PythonSearch</th>\n",
       "    </tr>\n",
       "  </thead>\n",
       "  <tbody>\n",
       "    <tr>\n",
       "      <th>1000</th>\n",
       "      <td>0.000078</td>\n",
       "      <td>0.000006</td>\n",
       "      <td>0.000205</td>\n",
       "      <td>0.000134</td>\n",
       "      <td>0.000139</td>\n",
       "    </tr>\n",
       "    <tr>\n",
       "      <th>2000</th>\n",
       "      <td>0.000219</td>\n",
       "      <td>0.000005</td>\n",
       "      <td>0.000185</td>\n",
       "      <td>0.000176</td>\n",
       "      <td>0.000175</td>\n",
       "    </tr>\n",
       "    <tr>\n",
       "      <th>3000</th>\n",
       "      <td>0.000339</td>\n",
       "      <td>0.000004</td>\n",
       "      <td>0.000273</td>\n",
       "      <td>0.000283</td>\n",
       "      <td>0.000326</td>\n",
       "    </tr>\n",
       "    <tr>\n",
       "      <th>4000</th>\n",
       "      <td>0.000378</td>\n",
       "      <td>0.000005</td>\n",
       "      <td>0.000365</td>\n",
       "      <td>0.000373</td>\n",
       "      <td>0.000391</td>\n",
       "    </tr>\n",
       "    <tr>\n",
       "      <th>5000</th>\n",
       "      <td>0.000472</td>\n",
       "      <td>0.000003</td>\n",
       "      <td>0.000462</td>\n",
       "      <td>0.000490</td>\n",
       "      <td>0.000497</td>\n",
       "    </tr>\n",
       "    <tr>\n",
       "      <th>6000</th>\n",
       "      <td>0.000584</td>\n",
       "      <td>0.000005</td>\n",
       "      <td>0.000573</td>\n",
       "      <td>0.000629</td>\n",
       "      <td>0.000600</td>\n",
       "    </tr>\n",
       "    <tr>\n",
       "      <th>7000</th>\n",
       "      <td>0.000690</td>\n",
       "      <td>0.000005</td>\n",
       "      <td>0.000692</td>\n",
       "      <td>0.000645</td>\n",
       "      <td>0.000714</td>\n",
       "    </tr>\n",
       "    <tr>\n",
       "      <th>8000</th>\n",
       "      <td>0.000856</td>\n",
       "      <td>0.000006</td>\n",
       "      <td>0.000785</td>\n",
       "      <td>0.000800</td>\n",
       "      <td>0.000846</td>\n",
       "    </tr>\n",
       "    <tr>\n",
       "      <th>9000</th>\n",
       "      <td>0.000984</td>\n",
       "      <td>0.000005</td>\n",
       "      <td>0.000890</td>\n",
       "      <td>0.001106</td>\n",
       "      <td>0.000998</td>\n",
       "    </tr>\n",
       "    <tr>\n",
       "      <th>10000</th>\n",
       "      <td>0.001230</td>\n",
       "      <td>0.000005</td>\n",
       "      <td>0.001023</td>\n",
       "      <td>0.001258</td>\n",
       "      <td>0.001226</td>\n",
       "    </tr>\n",
       "  </tbody>\n",
       "</table>\n",
       "</div>"
      ],
      "text/plain": [
       "       BinarySearch  BinaryTree  FibonacciSearch  InterpolationSearch  \\\n",
       "1000       0.000078    0.000006         0.000205             0.000134   \n",
       "2000       0.000219    0.000005         0.000185             0.000176   \n",
       "3000       0.000339    0.000004         0.000273             0.000283   \n",
       "4000       0.000378    0.000005         0.000365             0.000373   \n",
       "5000       0.000472    0.000003         0.000462             0.000490   \n",
       "6000       0.000584    0.000005         0.000573             0.000629   \n",
       "7000       0.000690    0.000005         0.000692             0.000645   \n",
       "8000       0.000856    0.000006         0.000785             0.000800   \n",
       "9000       0.000984    0.000005         0.000890             0.001106   \n",
       "10000      0.001230    0.000005         0.001023             0.001258   \n",
       "\n",
       "       PythonSearch  \n",
       "1000       0.000139  \n",
       "2000       0.000175  \n",
       "3000       0.000326  \n",
       "4000       0.000391  \n",
       "5000       0.000497  \n",
       "6000       0.000600  \n",
       "7000       0.000714  \n",
       "8000       0.000846  \n",
       "9000       0.000998  \n",
       "10000      0.001226  "
      ]
     },
     "execution_count": 95,
     "metadata": {},
     "output_type": "execute_result"
    }
   ],
   "source": [
    "df = pd.DataFrame({'BinarySearch': [binary[i] for i in range(10)],\n",
    "                   'BinaryTree': [binarytree[i] for i in range(10)],\n",
    "                   'FibonacciSearch': [fibonacci[i] for i in range(10)],\n",
    "                   'InterpolationSearch': [interpol[i] for i in range(10)],\n",
    "                   'PythonSearch': [python[i] for i in range(10)]}, index=elems).round(6)\n",
    "\n",
    "df"
   ]
  },
  {
   "cell_type": "markdown",
   "id": "dcdd261d",
   "metadata": {},
   "source": [
    "# Задание 2"
   ]
  },
  {
   "cell_type": "markdown",
   "id": "de2e7df3",
   "metadata": {},
   "source": [
    "Простое рехэширование"
   ]
  },
  {
   "cell_type": "code",
   "execution_count": 74,
   "id": "36c34c7e",
   "metadata": {},
   "outputs": [],
   "source": [
    "def hash_generate(key):\n",
    "    return key % 6\n",
    "\n",
    "def insert(key, value):\n",
    "    index = hash_generate(key)\n",
    "    while index in hash_table:\n",
    "        index = (index + 1) % 5\n",
    "    hash_table[index] = value"
   ]
  },
  {
   "cell_type": "code",
   "execution_count": 76,
   "id": "92069f8c",
   "metadata": {},
   "outputs": [
    {
     "name": "stdout",
     "output_type": "stream",
     "text": [
      "{1: 12, 2: 0, 4: 44, 5: 33, 3: 17}\n"
     ]
    }
   ],
   "source": [
    "hash_table = {}\n",
    "insert(1, 12)\n",
    "insert(2, 0)\n",
    "insert(4, 44)\n",
    "insert(11, 33)\n",
    "insert(11, 17)\n",
    "print(hash_table)"
   ]
  },
  {
   "cell_type": "markdown",
   "id": "18043c17",
   "metadata": {},
   "source": [
    "Рехэширование с псевдослучайными числами"
   ]
  },
  {
   "cell_type": "code",
   "execution_count": 77,
   "id": "48746570",
   "metadata": {},
   "outputs": [],
   "source": [
    "def RandomHash(numbers: list) -> list:\n",
    "    # Создаем новый список для хранения перехешированных чисел\n",
    "    new_numbers = []\n",
    "    # Перебираем числа из исходного списка\n",
    "    for number in numbers:\n",
    "        # Генерируем псевдослучайное число в диапазоне от 0 до 100\n",
    "        random_number = random.randint(0, 100)\n",
    "        # Перехешируем число с помощью псевдослучайного числа\n",
    "        hashed_number = (number * random_number) % 101\n",
    "        # Добавляем перехешированное число в новый список\n",
    "        new_numbers.append(hashed_number)\n",
    "    return new_numbers"
   ]
  },
  {
   "cell_type": "code",
   "execution_count": 78,
   "id": "200325f0",
   "metadata": {},
   "outputs": [
    {
     "name": "stdout",
     "output_type": "stream",
     "text": [
      "Enter N: 10\n",
      "Исходный список чисел: [80, 48, 46, 68, 53, 93, 13, 14, 7, 3]\n",
      "Перехешированный список чисел: [53, 100, 23, 44, 85, 89, 30, 5, 7, 21]\n"
     ]
    }
   ],
   "source": [
    "n = int(input(\"Enter N: \"))\n",
    "# Создаем список чисел\n",
    "numbers = [random.randint(1, 100) for _ in range(n)]\n",
    "# Выводим исходный список и список перехешированных чисел\n",
    "print(\"Исходный список чисел:\", numbers)\n",
    "print(\"Перехешированный список чисел:\", RandomHash(numbers))"
   ]
  },
  {
   "cell_type": "markdown",
   "id": "29784825",
   "metadata": {},
   "source": [
    "Метод цепочек"
   ]
  },
  {
   "cell_type": "code",
   "execution_count": 79,
   "id": "6359b323",
   "metadata": {},
   "outputs": [],
   "source": [
    "# Метод цепочек - это метод решения коллизий в хэш-таблицах.\n",
    "# Он основан на создании связанных списков (цепочек) элементов,\n",
    "# которые имеют одинаковый хэш-код.\n",
    "# Создаем класс узла списка\n",
    "class HashNode:\n",
    "    def __init__(self, key, value):\n",
    "        self.key = key\n",
    "        self.value = value\n",
    "        self.next = None\n",
    "\n",
    "\n",
    "# Создаем класс хэш-таблицы\n",
    "class HashTable:\n",
    "    def __init__(self):\n",
    "        self.capacity = 10  # начальная емкость таблицы\n",
    "        self.size = 0  # количество элементов в таблице\n",
    "        self.buckets = [None] * self.capacity  # создаем пустые списки для каждой ячейки таблицы\n",
    "\n",
    "    # Метод добавления элемента в таблицу\n",
    "    def add(self, key, value):\n",
    "        index = hash(key) % self.capacity  # вычисляем хэш-код ключа и индекс ячейки таблицы\n",
    "        node = self.buckets[index]  # получаем список (цепочку) элементов по индексу\n",
    "        while node:  # проходим по всем элементам цепочки\n",
    "            if node.key == key:  # если ключ уже есть в таблице, обновляем значение\n",
    "                node.value = value\n",
    "                return\n",
    "            node = node.next\n",
    "        # если ключа нет в таблице, добавляем его в начало цепочки\n",
    "        new_node = HashNode(key, value)\n",
    "        new_node.next = self.buckets[index]\n",
    "        self.buckets[index] = new_node\n",
    "        self.size += 1\n",
    "        # если количество элементов превысило 70% от емкости таблицы, увеличиваем емкость вдвое\n",
    "        if self.size > 0.7 * self.capacity:\n",
    "            self.resize()\n",
    "\n",
    "    # Метод получения значения по ключу\n",
    "    def get(self, key):\n",
    "        index = hash(key) % self.capacity  # вычисляем хэш-код ключа и индекс ячейки таблицы\n",
    "        node = self.buckets[index]  # получаем список (цепочку) элементов по индексу\n",
    "        while node:  # проходим по всем элементам цепочки\n",
    "            if node.key == key:  # если ключ найден, возвращаем его значение\n",
    "                return node.value\n",
    "            node = node.next\n",
    "        # если ключ не найден, возвращаем None\n",
    "        return None\n",
    "\n",
    "    # Метод удаления элемента из таблицы\n",
    "    def remove(self, key):\n",
    "        index = hash(key) % self.capacity  # вычисляем хэш-код ключа и индекс ячейки таблицы\n",
    "        node = self.buckets[index]  # получаем список (цепочку) элементов по индексу\n",
    "        prev = None\n",
    "        while node:  # проходим по всем элементам цепочки\n",
    "            if node.key == key:  # если ключ найден, удаляем элемент\n",
    "                if prev:\n",
    "                    prev.next = node.next\n",
    "                else:\n",
    "                    self.buckets[index] = node.next\n",
    "                self.size -= 1\n",
    "                return\n",
    "            prev = node\n",
    "            node = node.next\n",
    "\n",
    "    # Метод изменения емкости таблицы\n",
    "    def resize(self):\n",
    "        new_capacity = self.capacity * 2  # увеличиваем емкость вдвое\n",
    "        new_buckets = [None] * new_capacity  # создаем новую таблицу с увеличенной емкостью\n",
    "        # перехешируем все элементы из старой таблицы в новую\n",
    "        for i in range(self.capacity):\n",
    "            node = self.buckets[i]\n",
    "            while node:\n",
    "                index = hash(node.key) % new_capacity\n",
    "                if new_buckets[index]:\n",
    "                    new_node = new_buckets[index]\n",
    "                    while new_node.next:\n",
    "                        new_node = new_node.next\n",
    "                    new_node.next = HashNode(node.key, node.value)\n",
    "                else:\n",
    "                    new_buckets[index] = HashNode(node.key, node.value)\n",
    "                node = node.next\n",
    "        self.capacity = new_capacity\n",
    "        self.buckets = new_buckets"
   ]
  },
  {
   "cell_type": "code",
   "execution_count": 80,
   "id": "a2ff532a",
   "metadata": {},
   "outputs": [
    {
     "name": "stdout",
     "output_type": "stream",
     "text": [
      "value1\n",
      "None\n",
      "1\n",
      "2\n"
     ]
    }
   ],
   "source": [
    "ht = HashTable()\n",
    "ht.add('key1', 'value1')\n",
    "ht.add('key2', 'value2')\n",
    "ht.add('key3', 'value3')\n",
    "ht.add('key4', 'value4')\n",
    "ht.add('key5', 1)\n",
    "ht.add('key6', 2)\n",
    "print(ht.get('key1')) # 'value1'\n",
    "ht.remove('key3')\n",
    "print(ht.get('key3')) # None\n",
    "print(ht.get('key5')) # 1\n",
    "print(ht.get('key6')) # 2"
   ]
  },
  {
   "cell_type": "markdown",
   "id": "d6a64459",
   "metadata": {},
   "source": [
    "# Задание 3"
   ]
  },
  {
   "cell_type": "markdown",
   "id": "a6cfa0ad",
   "metadata": {},
   "source": [
    "Расставить на стандартной 64-клеточной шахматной доске 8 ферзей так, чтобы ни один из них не находился под боем другого». Подразумевается, что ферзь бьёт все клетки, расположенные по вертикалям, горизонталям и обеим диагоналям"
   ]
  },
  {
   "cell_type": "code",
   "execution_count": 84,
   "id": "90ed7ca3",
   "metadata": {},
   "outputs": [
    {
     "name": "stdout",
     "output_type": "stream",
     "text": [
      "|0||K||0||0||0||0||0||0|\n",
      "|0||0||0||K||0||0||0||0|\n",
      "|0||0||0||0||0||K||0||0|\n",
      "|0||0||0||0||0||0||0||K|\n",
      "|0||0||K||0||0||0||0||0|\n",
      "|K||0||0||0||0||0||0||0|\n",
      "|0||0||0||0||0||0||K||0|\n",
      "|0||0||0||0||K||0||0||0|\n"
     ]
    }
   ],
   "source": [
    "class Queen:\n",
    "    def __init__(self, x, y):\n",
    "        self.x = x\n",
    "        self.y = y\n",
    "\n",
    "    def attack(self, queen) -> bool:\n",
    "        return self.x == queen.x or self.y == queen.y or abs(queen.x - self.x) == abs(queen.y - self.y)\n",
    "\n",
    "    def getCoord(self):\n",
    "        return (self.x, self.y)\n",
    "\n",
    "\n",
    "def SolveQueens(boardSize: int, queens: list = None):\n",
    "    if queens is None:\n",
    "        queens = [Queen(0, random.randint(0, boardSize - 1))]\n",
    "\n",
    "    if len(queens) == boardSize:\n",
    "        res = []\n",
    "        for queen in queens:\n",
    "            res.append(queen.getCoord())\n",
    "        return res\n",
    "    else:\n",
    "        row = len(queens)\n",
    "        candidates = [Queen(row, i) for i in range(boardSize)]\n",
    "        for candidate in candidates:\n",
    "            under_attack = False\n",
    "            for queen in queens:\n",
    "                if queen.attack(candidate):\n",
    "                    under_attack = True\n",
    "                    break\n",
    "            if not under_attack:\n",
    "                queens.append(candidate)\n",
    "                result = SolveQueens(boardSize, queens)\n",
    "                if result is not None:\n",
    "                    return result\n",
    "                queens.pop()\n",
    "        return None\n",
    "\n",
    "\n",
    "def Draw(placement):\n",
    "    boardSize = len(placement)\n",
    "    for x in range(boardSize):\n",
    "        for y in range(boardSize):\n",
    "            if (x, y) in placement:\n",
    "                print(\"|K|\", end=\"\")\n",
    "            else:\n",
    "                print(\"|0|\", end=\"\")\n",
    "        print()\n",
    "\n",
    "\n",
    "Draw(SolveQueens(8))"
   ]
  },
  {
   "cell_type": "markdown",
   "id": "485f8b33",
   "metadata": {},
   "source": [
    "# Вывод"
   ]
  },
  {
   "cell_type": "markdown",
   "id": "e41522fd",
   "metadata": {},
   "source": [
    "В ходе данной лабораторной работы были реализованы методы поиска элемента в массиве и определены зависимости времени исполнения алгоритма от числа элементов массива, построен график и сводная таблица. Были реализованы три вида хэширования. Была решена задача с расстановкой ферзей на шахматной доске."
   ]
  },
  {
   "cell_type": "markdown",
   "id": "f9771052",
   "metadata": {},
   "source": []
  },
  {
   "cell_type": "code",
   "execution_count": null,
   "id": "c5aedbbc",
   "metadata": {},
   "outputs": [],
   "source": []
  }
 ],
 "metadata": {
  "kernelspec": {
   "display_name": "Python 3 (ipykernel)",
   "language": "python",
   "name": "python3"
  },
  "language_info": {
   "codemirror_mode": {
    "name": "ipython",
    "version": 3
   },
   "file_extension": ".py",
   "mimetype": "text/x-python",
   "name": "python",
   "nbconvert_exporter": "python",
   "pygments_lexer": "ipython3",
   "version": "3.9.13"
  }
 },
 "nbformat": 4,
 "nbformat_minor": 5
}
